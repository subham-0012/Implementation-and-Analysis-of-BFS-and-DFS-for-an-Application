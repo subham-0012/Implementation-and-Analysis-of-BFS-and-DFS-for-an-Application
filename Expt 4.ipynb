{
 "cells": [
  {
   "cell_type": "code",
   "execution_count": 10,
   "id": "64b68b76",
   "metadata": {},
   "outputs": [
    {
     "name": "stdout",
     "output_type": "stream",
     "text": [
      "20\n",
      "[0, 1, 1, 1]\n"
     ]
    }
   ],
   "source": [
    "from collections import deque\n",
    "import sys\n",
    "def tsp(graph, start):\n",
    "    n = len(graph)\n",
    "    visited = [False] * n\n",
    "    visited[start] = True\n",
    "    route = [start]\n",
    "    q = deque([(start, route)])\n",
    "    min_route = None\n",
    "    min_cost = sys.maxsize\n",
    "    while q:\n",
    "        (curr, route) = q.popleft()\n",
    "        if len(route) == n:\n",
    "            cost = 0\n",
    "            for i in range(n-1):\n",
    "                cost += graph[route[i]][route[i+1]]\n",
    "            cost += graph[route[n-1]][start]\n",
    "            if cost < min_cost:\n",
    "                min_cost = cost\n",
    "                min_route = route\n",
    "        else:\n",
    "            for i in range(n):\n",
    "                if not visited[i]:\n",
    "                    visited[i] = True\n",
    "                    q.append((i, route + [i]))\n",
    "                    visited[i] = False\n",
    "    print(min_cost)\n",
    "    return min_route\n",
    "graph = [[0, 10, 15, 20], [10, 0, 35, 25], [15, 35, 0, 30], [20, 25, 30, 0]]\n",
    "start = 0\n",
    "print(tsp(graph, start))"
   ]
  },
  {
   "cell_type": "code",
   "execution_count": 11,
   "id": "854b15b1",
   "metadata": {},
   "outputs": [
    {
     "name": "stdout",
     "output_type": "stream",
     "text": [
      "[0, 1, 0, 2] 50\n"
     ]
    }
   ],
   "source": [
    "def tsp(graph, start, end, path, visited, min_cost):\n",
    "    path.append(end)\n",
    "    if len(path) == len(graph):\n",
    "        cost = 0\n",
    "        for i in range(len(path) - 1):\n",
    "            cost += graph[path[i]][path[i + 1]]\n",
    "        cost += graph[path[len(path) - 1]][start]\n",
    "        if cost < min_cost[0]:\n",
    "            min_cost[0] = cost\n",
    "            min_path[0] = list(path)\n",
    "    else:\n",
    "        for i in range(len(graph)):\n",
    "            if visited[i] == False:\n",
    "                visited[i] = True\n",
    "                tsp(graph, start, i, path, visited, min_cost)\n",
    "                visited[i] = False\n",
    "    path.pop()\n",
    "graph = [[0, 10, 15, 20], [10, 0, 35, 25], [15, 35, 0, 30], [20, 25, 30, 0]]\n",
    "start = 0\n",
    "min_path = [None]\n",
    "min_cost = [float('inf')]\n",
    "visited = [False] * len(graph)\n",
    "path = []\n",
    "tsp(graph, start, start, path, visited, min_cost)\n",
    "print(min_path[0], min_cost[0])"
   ]
  },
  {
   "cell_type": "code",
   "execution_count": null,
   "id": "031e0b9d",
   "metadata": {},
   "outputs": [],
   "source": []
  }
 ],
 "metadata": {
  "kernelspec": {
   "display_name": "Python 3 (ipykernel)",
   "language": "python",
   "name": "python3"
  },
  "language_info": {
   "codemirror_mode": {
    "name": "ipython",
    "version": 3
   },
   "file_extension": ".py",
   "mimetype": "text/x-python",
   "name": "python",
   "nbconvert_exporter": "python",
   "pygments_lexer": "ipython3",
   "version": "3.9.7"
  }
 },
 "nbformat": 4,
 "nbformat_minor": 5
}
